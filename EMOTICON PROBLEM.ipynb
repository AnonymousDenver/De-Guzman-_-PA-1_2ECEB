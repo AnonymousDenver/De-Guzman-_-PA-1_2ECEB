{
 "cells": [
  {
   "cell_type": "markdown",
   "id": "5faed021-e7fd-4f4d-9fe0-9ebccf968c92",
   "metadata": {},
   "source": [
    "# EMOTICON PROBLEM"
   ]
  },
  {
   "cell_type": "code",
   "execution_count": 3,
   "id": "cd0e4b2d-061c-485b-b125-584ce15b6c81",
   "metadata": {},
   "outputs": [
    {
     "name": "stdin",
     "output_type": "stream",
     "text": [
      "Input:  sad\n"
     ]
    },
    {
     "name": "stdout",
     "output_type": "stream",
     "text": [
      ":(( "
     ]
    }
   ],
   "source": [
    "def emoticon():\n",
    "    # Creating a dictionary to match the proper emoticon to word form\n",
    "    emotes = {\"smile\": \":)\", \"grin\": \":D\", \"sad\": \":((\", \"mad\": \">:(\"}\n",
    "    # Make the user enter any input\n",
    "    z = input(\"Input: \")\n",
    "    # Split the sentence into individual words and store them in a \"new\" list\n",
    "    new = z.split()\n",
    "    # Perform repeatedly using each word in the \"new\" list using a for loop\n",
    "    for word in new:\n",
    "        # If word matches in the \"emotes\" dictionary, replace it with proper emoticon\n",
    "        converted = emotes.get(word, word)\n",
    "        print(converted, end=\" \")\n",
    "\n",
    "# Call the emoticon function to execute\n",
    "emoticon()\n"
   ]
  },
  {
   "cell_type": "code",
   "execution_count": null,
   "id": "6dbd04f9-eaeb-4d84-9baf-f3f49d3be641",
   "metadata": {},
   "outputs": [],
   "source": [
    "WEW"
   ]
  }
 ],
 "metadata": {
  "kernelspec": {
   "display_name": "Python 3 (ipykernel)",
   "language": "python",
   "name": "python3"
  },
  "language_info": {
   "codemirror_mode": {
    "name": "ipython",
    "version": 3
   },
   "file_extension": ".py",
   "mimetype": "text/x-python",
   "name": "python",
   "nbconvert_exporter": "python",
   "pygments_lexer": "ipython3",
   "version": "3.12.4"
  }
 },
 "nbformat": 4,
 "nbformat_minor": 5
}
