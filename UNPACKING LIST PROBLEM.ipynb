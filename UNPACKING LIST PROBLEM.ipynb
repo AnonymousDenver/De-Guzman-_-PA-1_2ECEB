{
 "cells": [
  {
   "cell_type": "markdown",
   "id": "4757381d-4072-4fe3-b7f7-9d5666b7010f",
   "metadata": {},
   "source": [
    "# UNPACKING LIST PROBLEM"
   ]
  },
  {
   "cell_type": "code",
   "execution_count": 4,
   "id": "2664bcdc-5fd5-4457-8f60-2c360f3e3ff6",
   "metadata": {},
   "outputs": [
    {
     "name": "stdout",
     "output_type": "stream",
     "text": [
      "First: 1 Middle: [2, 3, 4, 5] Last 6\n"
     ]
    }
   ],
   "source": [
    "#Define a list containing elements 1-6 \n",
    "list = [ 1, 2, 3 , 4 , 5, 6 ] \n",
    "#Print FIRST , MIDDLE AND LAST\n",
    "print (\"First:\", list[0], \"Middle:\",list[1:-1],\"Last\", list[-1]) "
   ]
  },
  {
   "cell_type": "code",
   "execution_count": null,
   "id": "db49de8b-dcc5-40c8-8c3e-0834c17d7747",
   "metadata": {},
   "outputs": [],
   "source": []
  }
 ],
 "metadata": {
  "kernelspec": {
   "display_name": "Python 3 (ipykernel)",
   "language": "python",
   "name": "python3"
  },
  "language_info": {
   "codemirror_mode": {
    "name": "ipython",
    "version": 3
   },
   "file_extension": ".py",
   "mimetype": "text/x-python",
   "name": "python",
   "nbconvert_exporter": "python",
   "pygments_lexer": "ipython3",
   "version": "3.12.4"
  }
 },
 "nbformat": 4,
 "nbformat_minor": 5
}
