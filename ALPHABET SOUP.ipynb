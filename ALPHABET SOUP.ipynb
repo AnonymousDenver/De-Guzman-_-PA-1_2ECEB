{
 "cells": [
  {
   "cell_type": "code",
   "execution_count": null,
   "id": "2e2d596a-b947-4386-81aa-0abf0fe22945",
   "metadata": {},
   "outputs": [],
   "source": []
  },
  {
   "cell_type": "markdown",
   "id": "99cb5aeb-7a51-4fc9-ad82-30c0e4230dab",
   "metadata": {},
   "source": [
    "# ALPHABET SOUP\n"
   ]
  },
  {
   "cell_type": "code",
   "execution_count": 6,
   "id": "682e13c9-252a-4471-936b-d78d5035e24f",
   "metadata": {},
   "outputs": [
    {
     "name": "stdin",
     "output_type": "stream",
     "text": [
      "Enter a string:  ASDASDBCASDSADQWDWQ\n"
     ]
    },
    {
     "name": "stdout",
     "output_type": "stream",
     "text": [
      "AAAABCDDDDDQQSSSSWW\n"
     ]
    }
   ],
   "source": [
    "#Define a function \n",
    "\n",
    "def letters():\n",
    "    #Make the user input a string and store in variable s\n",
    "    s = input(\"Enter a string: \")\n",
    "    #Sort the string by converting it into a list of characters\n",
    "    sorted_chars = sorted(s)\n",
    "    #Use slicing uniting the sorted characters in one string\n",
    "    sorted_strings =''.join(sorted_chars[:])\n",
    "    #Print sorted string \n",
    "    print(sorted_strings)\n",
    "    \n",
    " #Calling function\n",
    "letters ()\n",
    "\n",
    "\n"
   ]
  },
  {
   "cell_type": "code",
   "execution_count": null,
   "id": "b5dadeb3-0bfb-423b-8270-f843c6ada587",
   "metadata": {},
   "outputs": [],
   "source": []
  }
 ],
 "metadata": {
  "kernelspec": {
   "display_name": "Python 3 (ipykernel)",
   "language": "python",
   "name": "python3"
  },
  "language_info": {
   "codemirror_mode": {
    "name": "ipython",
    "version": 3
   },
   "file_extension": ".py",
   "mimetype": "text/x-python",
   "name": "python",
   "nbconvert_exporter": "python",
   "pygments_lexer": "ipython3",
   "version": "3.12.4"
  }
 },
 "nbformat": 4,
 "nbformat_minor": 5
}
